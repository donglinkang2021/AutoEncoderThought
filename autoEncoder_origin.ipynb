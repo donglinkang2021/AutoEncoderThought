{
 "cells": [
  {
   "cell_type": "markdown",
   "metadata": {
    "id": "LzSKInEGuoMh"
   },
   "source": [
    "# 用AtuoEncoder做一些有趣的事情"
   ]
  },
  {
   "cell_type": "markdown",
   "metadata": {
    "id": "6eYLn71p0EqY"
   },
   "source": [
    "有人甚至做了Mask AutoEncoder之类的东西，第一次知道可以这样去恢复原数据，真的非常有意思。可以在这里也试一下AutoEncoder，下面用了mnist俩个数据集（一个最经典的、一个FashionMnist,只需要切换一下datasets那里的数据运行便可以看到效果）。\n",
    "\n",
    "- 本笔记特意投影到三维的区间方便用三维空间画出十种数据在autoEncoder降维之后十如何分布的，我们通过三维图看到相同的数据还是分布在一块，也就是说明了降维成功了。而且这些数据也能很好的刻画原数据的值（最后的测试集可以看到效果）。\n",
    "\n",
    "- 最后利用测试集的数据进行随机的图片生成，这里的应用我们可能以后会想到token的应用，提取关键词，用decoder生成图片（对应之后的diffusion模型）"
   ]
  },
  {
   "cell_type": "markdown",
   "metadata": {
    "id": "dmSMaZPYzopr"
   },
   "source": [
    "### 加入库"
   ]
  },
  {
   "cell_type": "code",
   "execution_count": 63,
   "metadata": {
    "id": "ReKt1rB_uoMj"
   },
   "outputs": [],
   "source": [
    "# Import PyTorch modules\n",
    "import torch\n",
    "import torch.nn as nn\n",
    "import torch.optim as optim\n",
    "import torchvision.datasets as datasets\n",
    "import torchvision.transforms as transforms"
   ]
  },
  {
   "cell_type": "code",
   "execution_count": 64,
   "metadata": {
    "colab": {
     "base_uri": "https://localhost:8080/"
    },
    "id": "J3eThUGYz36K",
    "outputId": "ecc73f32-63a9-4bc5-e527-0c85fa51e60c"
   },
   "outputs": [
    {
     "name": "stdout",
     "output_type": "stream",
     "text": [
      "1.13.1+cu116\n",
      "0.14.1+cu116\n"
     ]
    }
   ],
   "source": [
    "# 打印torch和torchvision的版本\n",
    "import torchvision\n",
    "print(torch.__version__)\n",
    "print(torchvision.__version__)"
   ]
  },
  {
   "cell_type": "code",
   "execution_count": 65,
   "metadata": {
    "colab": {
     "base_uri": "https://localhost:8080/"
    },
    "id": "YRpfglEsAgAy",
    "outputId": "437d84cd-58d6-4b74-f900-d7dceddc833f"
   },
   "outputs": [
    {
     "name": "stdout",
     "output_type": "stream",
     "text": [
      "Wed Feb 22 15:32:52 2023       \n",
      "+-----------------------------------------------------------------------------+\n",
      "| NVIDIA-SMI 510.47.03    Driver Version: 510.47.03    CUDA Version: 11.6     |\n",
      "|-------------------------------+----------------------+----------------------+\n",
      "| GPU  Name        Persistence-M| Bus-Id        Disp.A | Volatile Uncorr. ECC |\n",
      "| Fan  Temp  Perf  Pwr:Usage/Cap|         Memory-Usage | GPU-Util  Compute M. |\n",
      "|                               |                      |               MIG M. |\n",
      "|===============================+======================+======================|\n",
      "|   0  Tesla T4            Off  | 00000000:00:04.0 Off |                    0 |\n",
      "| N/A   65C    P0    31W /  70W |    858MiB / 15360MiB |      0%      Default |\n",
      "|                               |                      |                  N/A |\n",
      "+-------------------------------+----------------------+----------------------+\n",
      "                                                                               \n",
      "+-----------------------------------------------------------------------------+\n",
      "| Processes:                                                                  |\n",
      "|  GPU   GI   CI        PID   Type   Process name                  GPU Memory |\n",
      "|        ID   ID                                                   Usage      |\n",
      "|=============================================================================|\n",
      "|    0   N/A  N/A    542863      C                                     855MiB |\n",
      "+-----------------------------------------------------------------------------+\n"
     ]
    }
   ],
   "source": [
    "!nvidia-smi"
   ]
  },
  {
   "cell_type": "markdown",
   "metadata": {
    "id": "eZWChlboz_Ub"
   },
   "source": [
    "### 定义超参数"
   ]
  },
  {
   "cell_type": "code",
   "execution_count": 66,
   "metadata": {
    "id": "sZsnFEHB0c_M"
   },
   "outputs": [],
   "source": [
    "device = torch.device('cuda' if torch.cuda.is_available() else 'cpu')"
   ]
  },
  {
   "cell_type": "code",
   "execution_count": 67,
   "metadata": {
    "id": "zVJsLlqWuoMk"
   },
   "outputs": [],
   "source": [
    "# Define hyperparameters\n",
    "batch_size = 100\n",
    "num_epochs = 20\n",
    "learning_rate = 0.001"
   ]
  },
  {
   "cell_type": "markdown",
   "metadata": {
    "id": "O7OK8Bv30CC6"
   },
   "source": [
    "### 加载数据集"
   ]
  },
  {
   "cell_type": "code",
   "execution_count": 71,
   "metadata": {
    "colab": {
     "base_uri": "https://localhost:8080/",
     "height": 422,
     "referenced_widgets": [
      "c2882a4e6a894a588ab30aa33e377318",
      "9c39085a9aef40f6ba45c38d75b12f8e",
      "9e1d4f52dc594b099f05ac3faa3ba6f0",
      "cb3a25daf3f64b2e952c8ed7c07a279d",
      "38f57dfe3198492599e758fac63a3e35",
      "e3cb6a483f494612abe018240470a42f",
      "2b478a96059643208b39292bcd9a0d34",
      "3725cab4e30545fea1c52396d7db9a14",
      "905facbe89a84948820f9d061b2ffdf9",
      "7332a4a01d8f455b9c11fd4ce5b818dc",
      "2a81e45f336e41548c23e723cbe35a70",
      "1bd9597311af401caeb667b47e28cae8",
      "3f57e2e95feb4050b018eb5c1bcc3b04",
      "e77cd0f015484ce7b1cf3a9a2117ce76",
      "09d7f32a66b8457d9f9e36b4764ae99e",
      "11840aefe1be47618d4d18a31eb09a18",
      "0d30a49675c745879fdf8fb82b2c8c81",
      "d3d7f0b5239540d7b63974b31396e69c",
      "9b27155ed3af4dcf9960870a6ed47bed",
      "213252b1f5524056925999707a4c534d",
      "c2d09a3a44934e18b339772593060fa7",
      "7643e23d57404d78be6f28b4398a0dfc",
      "dbc5db68bfe741f68f5581f308ac1e87",
      "eedec650bfd0422ca5bf81188e22ca52",
      "77c6430345474d3c8f89d06953cd7185",
      "70ae6a73873f43409cbf94c48422cc21",
      "fa7925b732054368bc79db857348bdf1",
      "534f2bb383804124aea032f34a3601c7",
      "bea558f337dc486c992de2ed4c09e188",
      "16186c89c1d34d70a767ea30a922778b",
      "efc5d2741f7649fbbca370963fd04526",
      "8f5f7426ab29419291f454de3a80867b",
      "7aa31b28c39b4fad86dcd2d1b8b69e90",
      "b3013900d3764e72b00ab56f285d9ea8",
      "0e6ffe07c51948f8a4b39083449bd33f",
      "9f7ebcad66d046d8bf7391472bb426d9",
      "accc8ca0d07044c2bdb697e568caa0b4",
      "811ae85f3f86495189df39cd08dee512",
      "054e103663d34e25a5a38bafc839311a",
      "3e42f9eb5edc4eefa450bc4a39be7523",
      "eb3906ab4d8947c19197e08ce200c502",
      "431de5029ac84e4dbb1ef2522a1c2e57",
      "163ff1e8081548998898e0749693f82f",
      "53c7576c5f32427b99b0d740e256409b"
     ]
    },
    "id": "vPvxYii7uoMl",
    "outputId": "508788da-b521-4189-e089-956123bb8a29"
   },
   "outputs": [
    {
     "name": "stdout",
     "output_type": "stream",
     "text": [
      "Downloading http://fashion-mnist.s3-website.eu-central-1.amazonaws.com/train-images-idx3-ubyte.gz\n",
      "Downloading http://fashion-mnist.s3-website.eu-central-1.amazonaws.com/train-images-idx3-ubyte.gz to data/FashionMNIST/raw/train-images-idx3-ubyte.gz\n"
     ]
    },
    {
     "data": {
      "application/vnd.jupyter.widget-view+json": {
       "model_id": "c2882a4e6a894a588ab30aa33e377318",
       "version_major": 2,
       "version_minor": 0
      },
      "text/plain": [
       "  0%|          | 0/26421880 [00:00<?, ?it/s]"
      ]
     },
     "metadata": {},
     "output_type": "display_data"
    },
    {
     "name": "stdout",
     "output_type": "stream",
     "text": [
      "Extracting data/FashionMNIST/raw/train-images-idx3-ubyte.gz to data/FashionMNIST/raw\n",
      "\n",
      "Downloading http://fashion-mnist.s3-website.eu-central-1.amazonaws.com/train-labels-idx1-ubyte.gz\n",
      "Downloading http://fashion-mnist.s3-website.eu-central-1.amazonaws.com/train-labels-idx1-ubyte.gz to data/FashionMNIST/raw/train-labels-idx1-ubyte.gz\n"
     ]
    },
    {
     "data": {
      "application/vnd.jupyter.widget-view+json": {
       "model_id": "1bd9597311af401caeb667b47e28cae8",
       "version_major": 2,
       "version_minor": 0
      },
      "text/plain": [
       "  0%|          | 0/29515 [00:00<?, ?it/s]"
      ]
     },
     "metadata": {},
     "output_type": "display_data"
    },
    {
     "name": "stdout",
     "output_type": "stream",
     "text": [
      "Extracting data/FashionMNIST/raw/train-labels-idx1-ubyte.gz to data/FashionMNIST/raw\n",
      "\n",
      "Downloading http://fashion-mnist.s3-website.eu-central-1.amazonaws.com/t10k-images-idx3-ubyte.gz\n",
      "Downloading http://fashion-mnist.s3-website.eu-central-1.amazonaws.com/t10k-images-idx3-ubyte.gz to data/FashionMNIST/raw/t10k-images-idx3-ubyte.gz\n"
     ]
    },
    {
     "data": {
      "application/vnd.jupyter.widget-view+json": {
       "model_id": "dbc5db68bfe741f68f5581f308ac1e87",
       "version_major": 2,
       "version_minor": 0
      },
      "text/plain": [
       "  0%|          | 0/4422102 [00:00<?, ?it/s]"
      ]
     },
     "metadata": {},
     "output_type": "display_data"
    },
    {
     "name": "stdout",
     "output_type": "stream",
     "text": [
      "Extracting data/FashionMNIST/raw/t10k-images-idx3-ubyte.gz to data/FashionMNIST/raw\n",
      "\n",
      "Downloading http://fashion-mnist.s3-website.eu-central-1.amazonaws.com/t10k-labels-idx1-ubyte.gz\n",
      "Downloading http://fashion-mnist.s3-website.eu-central-1.amazonaws.com/t10k-labels-idx1-ubyte.gz to data/FashionMNIST/raw/t10k-labels-idx1-ubyte.gz\n"
     ]
    },
    {
     "data": {
      "application/vnd.jupyter.widget-view+json": {
       "model_id": "b3013900d3764e72b00ab56f285d9ea8",
       "version_major": 2,
       "version_minor": 0
      },
      "text/plain": [
       "  0%|          | 0/5148 [00:00<?, ?it/s]"
      ]
     },
     "metadata": {},
     "output_type": "display_data"
    },
    {
     "name": "stdout",
     "output_type": "stream",
     "text": [
      "Extracting data/FashionMNIST/raw/t10k-labels-idx1-ubyte.gz to data/FashionMNIST/raw\n",
      "\n"
     ]
    }
   ],
   "source": [
    "# Load MNIST dataset\n",
    "# train_dataset = datasets.MNIST(root='data/', train=True, transform=transforms.ToTensor(), download=True)\n",
    "# test_dataset = datasets.MNIST(root='data/', train=False, transform=transforms.ToTensor(), download=True)\n",
    "train_dataset = datasets.FashionMNIST(root='data/', train=True, transform=transforms.ToTensor(), download=True)\n",
    "test_dataset = datasets.FashionMNIST(root='data/', train=False, transform=transforms.ToTensor(), download=True)\n",
    "train_loader = torch.utils.data.DataLoader(train_dataset, batch_size=batch_size, shuffle=True)\n",
    "test_loader = torch.utils.data.DataLoader(test_dataset, batch_size=batch_size, shuffle=False)"
   ]
  },
  {
   "cell_type": "code",
   "execution_count": 72,
   "metadata": {
    "colab": {
     "base_uri": "https://localhost:8080/"
    },
    "id": "9Qfe2haZZf-B",
    "outputId": "83eb84ab-0aec-45dd-c275-57f0844adfb6"
   },
   "outputs": [
    {
     "name": "stdout",
     "output_type": "stream",
     "text": [
      "torch.Size([60000, 28, 28])\n",
      "torch.Size([10000, 28, 28])\n"
     ]
    }
   ],
   "source": [
    "print(train_dataset.data.shape)\n",
    "print(test_dataset.data.shape)"
   ]
  },
  {
   "cell_type": "code",
   "execution_count": 73,
   "metadata": {
    "colab": {
     "base_uri": "https://localhost:8080/",
     "height": 281
    },
    "id": "eMq6Nf8VZh2v",
    "outputId": "b0a8ffcb-61ad-4982-c051-6dc353f3b191"
   },
   "outputs": [
    {
     "data": {
      "image/png": "[encoded data removed]",
      "text/plain": [
       "<Figure size 432x288 with 1 Axes>"
      ]
     },
     "metadata": {
      "needs_background": "light"
     },
     "output_type": "display_data"
    }
   ],
   "source": [
    "# 用plt显示一张图片\n",
    "import matplotlib.pyplot as plt\n",
    "plt.imshow(test_dataset.data[0].numpy(), cmap='gray')\n",
    "plt.title('%i' % test_dataset.targets[0])\n",
    "plt.show()"
   ]
  },
  {
   "cell_type": "markdown",
   "metadata": {
    "id": "J5t3oGGa0flm"
   },
   "source": [
    "### 展示图像"
   ]
  },
  {
   "cell_type": "code",
   "execution_count": 74,
   "metadata": {
    "id": "sIzTXb_VynMX"
   },
   "outputs": [],
   "source": [
    "# Import matplotlib.pyplot module for plotting images\n",
    "import matplotlib.pyplot as plt"
   ]
  },
  {
   "cell_type": "code",
   "execution_count": 75,
   "metadata": {
    "colab": {
     "base_uri": "https://localhost:8080/",
     "height": 879
    },
    "id": "ni9wb410ycdj",
    "outputId": "eaa6a0b0-2fb0-42d1-d811-143d78ea3087"
   },
   "outputs": [
    {
     "data": {
      "image/png": "[encoded data removed]",
      "text/plain": [
       "<Figure size 1080x1080 with 16 Axes>"
      ]
     },
     "metadata": {
      "needs_background": "light"
     },
     "output_type": "display_data"
    }
   ],
   "source": [
    "# Plot some sample images from test dataset \n",
    "for data in test_loader:\n",
    "    # Get input images and labels \n",
    "    img,label  = data \n",
    "    img = img.to(device) \n",
    "    label = label.to(device)\n",
    "\n",
    "    # Plot a grid of 16 images with their labels \n",
    "    fig ,axs = plt.subplots(4 ,4 ,figsize=(15 ,15)) \n",
    "    for i in range(4): \n",
    "        for j in range(4): \n",
    "            # Get image tensor at index i*4+j index i*4+j image img[index]\n",
    "            index = i*4+j\n",
    "            image = img[index]\n",
    "            # Convert image tensor to numpy array and transpose it to HxWxC format \n",
    "            image = image.cpu().numpy().transpose(1 ,2 ,0)\n",
    "\n",
    "            # Plot image on subplot \n",
    "            axs[i][j].imshow(image.squeeze() ,cmap='gray') \n",
    "            axs[i][j].set_title(f'Label: {label[index].item()}')\n",
    "    # Show the figure \n",
    "    plt.show()\n",
    "    # Break after one batch \n",
    "    break"
   ]
  },
  {
   "cell_type": "markdown",
   "metadata": {
    "id": "FvjR_aBk0jpu"
   },
   "source": [
    "### 定义网络"
   ]
  },
  {
   "cell_type": "code",
   "execution_count": 76,
   "metadata": {
    "id": "BoIJklbKvNxj"
   },
   "outputs": [],
   "source": [
    "# Define autoencoder model\n",
    "class Autoencoder(nn.Module):\n",
    "    def __init__(self):\n",
    "        super(Autoencoder, self).__init__()\n",
    "        # Encoder layers\n",
    "        self.encoder = nn.Sequential(\n",
    "            nn.Linear(28*28, 128),\n",
    "            nn.ReLU(),\n",
    "            nn.Linear(128, 64),\n",
    "            nn.ReLU(),\n",
    "            nn.Linear(64, 12),\n",
    "            nn.ReLU(),\n",
    "            nn.Linear(12, 3) # Latent space representation\n",
    "        )\n",
    "        # Decoder layers\n",
    "        self.decoder = nn.Sequential(\n",
    "            nn.Linear(3, 12),\n",
    "            nn.ReLU(),\n",
    "            nn.Linear(12, 64),\n",
    "            nn.ReLU(),\n",
    "            nn.Linear(64, 128),\n",
    "            nn.ReLU(),\n",
    "            nn.Linear(128, 28*28),\n",
    "            nn.Sigmoid() # To get values between 0 and 1 for pixel values\n",
    "        )\n",
    "\n",
    "    def forward(self, x):\n",
    "        # Encode input to latent space representation\n",
    "        encoded = self.encoder(x)\n",
    "        # Decode latent space representation to reconstructed output\n",
    "        decoded = self.decoder(encoded)\n",
    "        return decoded\n",
    "\n",
    "# Define convolutional autoencoder model\n",
    "class ConvAutoencoder(nn.Module):\n",
    "    def __init__(self):\n",
    "        super(ConvAutoencoder, self).__init__()\n",
    "        # Encoder layers\n",
    "        self.encoder = nn.Sequential(\n",
    "            nn.Conv2d(1, 16, 3, stride=2, padding=1), # (N, 1, 28, 28) -> (N, 16, 14 ,14)\n",
    "            nn.ReLU(),\n",
    "            nn.Conv2d(16 ,32 ,3 ,stride=2 ,padding=1), # (N ,16 ,14 ,14) -> (N ,32 ,7 ,7)\n",
    "            nn.ReLU(),\n",
    "            nn.Conv2d(32 ,64 ,7), # (N ,32 ,7 ,7) -> (N ,64 ,1 ,1)\n",
    "        )\n",
    "        # Decoder layers\n",
    "        self.decoder = nn.Sequential(\n",
    "            nn.ConvTranspose2d(64 ,32 ,7), # (N ,64 ,1 ,1) -> (N ,32 ,7 ,7)\n",
    "            nn.ReLU(),\n",
    "            nn.ConvTranspose2d(32, 16, 3,stride=2,padding=1,output_padding=1), # (N .32 .7 .7) -> (N .16 .14 .14)\n",
    "            nn.ReLU(),\n",
    "            nn.ConvTranspose2d(16, 1, 3,stride=2,padding=1,output_padding=1), # (N .16 .14 .14) -> (N .1 .28 .28)\n",
    "            nn.Sigmoid() # To get values between 0 and 1 for pixel values \n",
    "        )\n",
    "\n",
    "    def forward(self,x):\n",
    "        # Encode input to latent space representation \n",
    "        encoded = self.encoder(x) \n",
    "        # Decode latent space representation to reconstructed output \n",
    "        decoded = self.decoder(encoded) \n",
    "        return decoded"
   ]
  },
  {
   "cell_type": "markdown",
   "metadata": {
    "id": "62U4e5My6MG6"
   },
   "source": [
    "### 模型定义"
   ]
  },
  {
   "cell_type": "code",
   "execution_count": 77,
   "metadata": {
    "id": "x_MWIiKYvijK"
   },
   "outputs": [],
   "source": [
    "# Create model instance and move it to device (GPU or CPU)\n",
    "model = Autoencoder()\n",
    "# model = ConvAutoencoder()\n",
    "device = torch.device(\"cuda\" if torch.cuda.is_available() else \"cpu\")\n",
    "model.to(device)\n",
    "\n",
    "\n",
    "# Define loss function and optimizer\n",
    "criterion = nn.MSELoss(reduction = 'none') # Mean Squared Error loss for reconstruction error \n",
    "optimizer = optim.Adam(model.parameters(), lr=learning_rate)\n"
   ]
  },
  {
   "cell_type": "markdown",
   "metadata": {
    "id": "dtkuh1p66V2F"
   },
   "source": [
    "### 开始训练并评估"
   ]
  },
  {
   "cell_type": "code",
   "execution_count": 78,
   "metadata": {
    "colab": {
     "base_uri": "https://localhost:8080/"
    },
    "id": "McnbuMN_APWZ",
    "outputId": "55831724-20b5-4793-d679-eae3b0bfa2da"
   },
   "outputs": [
    {
     "name": "stdout",
     "output_type": "stream",
     "text": [
      "60000\n",
      "10000\n"
     ]
    }
   ],
   "source": [
    "print(len(train_loader.dataset))\n",
    "print(len(test_loader.dataset))"
   ]
  },
  {
   "cell_type": "code",
   "execution_count": 79,
   "metadata": {
    "colab": {
     "base_uri": "https://localhost:8080/"
    },
    "id": "NsylewFjvO_Q",
    "outputId": "59b52fe6-b4df-4cc7-9bc6-d4cbb196b002"
   },
   "outputs": [
    {
     "name": "stdout",
     "output_type": "stream",
     "text": [
      "Epoch 1/20, Train Loss: 0.0505, Test Loss: 0.1701\n",
      "Epoch 2/20, Train Loss: 0.0339, Test Loss: 0.0364\n",
      "Epoch 3/20, Train Loss: 0.0282, Test Loss: 0.0302\n",
      "Epoch 4/20, Train Loss: 0.0264, Test Loss: 0.0269\n",
      "Epoch 5/20, Train Loss: 0.0256, Test Loss: 0.0260\n",
      "Epoch 6/20, Train Loss: 0.0252, Test Loss: 0.0255\n",
      "Epoch 7/20, Train Loss: 0.0248, Test Loss: 0.0250\n",
      "Epoch 8/20, Train Loss: 0.0244, Test Loss: 0.0249\n",
      "Epoch 9/20, Train Loss: 0.0241, Test Loss: 0.0244\n",
      "Epoch 10/20, Train Loss: 0.0238, Test Loss: 0.0242\n",
      "Epoch 11/20, Train Loss: 0.0235, Test Loss: 0.0237\n",
      "Epoch 12/20, Train Loss: 0.0232, Test Loss: 0.0235\n",
      "Epoch 13/20, Train Loss: 0.0230, Test Loss: 0.0236\n",
      "Epoch 14/20, Train Loss: 0.0228, Test Loss: 0.0231\n",
      "Epoch 15/20, Train Loss: 0.0227, Test Loss: 0.0230\n",
      "Epoch 16/20, Train Loss: 0.0225, Test Loss: 0.0230\n",
      "Epoch 17/20, Train Loss: 0.0224, Test Loss: 0.0226\n",
      "Epoch 18/20, Train Loss: 0.0223, Test Loss: 0.0226\n",
      "Epoch 19/20, Train Loss: 0.0222, Test Loss: 0.0225\n",
      "Epoch 20/20, Train Loss: 0.0221, Test Loss: 0.0226\n"
     ]
    }
   ],
   "source": [
    "train_loss_list = [] # To store training loss for each epoch\n",
    "test_loss_list = [] # To store test loss for each epoch\n",
    "# Training loop \n",
    "for epoch in range(num_epochs):\n",
    "    train_loss = 0\n",
    "    test_loss = 0\n",
    "    train_example_num = 0\n",
    "    test_example_num = 0\n",
    "\n",
    "    # =================== Testing ===================\n",
    "    model.eval() # Set model to evaluation mode\n",
    "    with torch.no_grad(): # Disable gradient calculation\n",
    "        for data in test_loader:\n",
    "            # Get input images and flatten them to vectors of size 784 (28*28)\n",
    "            img, _ = data \n",
    "            img = img.view(img.size(0), -1) \n",
    "            img = img.to(device) \n",
    "\n",
    "            # Forward pass to get reconstructed output \n",
    "            output = model(img) \n",
    "\n",
    "            # Compute reconstruction loss \n",
    "            loss = criterion(output, img) \n",
    "            loss = loss.mean()\n",
    "\n",
    "            test_loss += loss.item() * img.size(0)\n",
    "            test_example_num += img.size(0)\n",
    "\n",
    "    \n",
    "    # =================== Training ===================\n",
    "    model.train() # Set model to training mode\n",
    "    for data in train_loader:\n",
    "        # Get input images and flatten them to vectors of size 784 (28*28)\n",
    "        img, _ = data \n",
    "        img = img.to(device) \n",
    "        img = img.view(img.size(0), -1) \n",
    "        \n",
    "\n",
    "        # Forward pass to get reconstructed output \n",
    "        output = model(img) \n",
    "\n",
    "        # Compute reconstruction loss \n",
    "        loss = criterion(output, img) \n",
    "        loss = loss.mean()\n",
    "\n",
    "        # Backward pass and update parameters \n",
    "        optimizer.zero_grad() \n",
    "        loss.backward() \n",
    "        optimizer.step() \n",
    "\n",
    "        train_loss += loss.item() * img.size(0)\n",
    "        train_example_num += img.size(0)\n",
    "\n",
    "    \n",
    "    # =================== Logging ===================\n",
    "    # Save training loss\n",
    "    train_loss_list.append(train_loss/60000) # train_loader.dataset is the entire dataset\n",
    "    # Save test loss \n",
    "    test_loss_list.append(test_loss/10000) # test_loader.dataset is the entire dataset\n",
    "\n",
    "    # Print training and test loss for each epoch\n",
    "    print(f\"Epoch {epoch+1}/{num_epochs}, Train Loss: {train_loss_list[-1]:.4f}, Test Loss: {test_loss_list[-1]:.4f}\")\n"
   ]
  },
  {
   "cell_type": "code",
   "execution_count": 80,
   "metadata": {
    "colab": {
     "base_uri": "https://localhost:8080/",
     "height": 265
    },
    "id": "dxxK0M8G7OUp",
    "outputId": "300c5616-99fd-4036-89e1-9de5480382ec"
   },
   "outputs": [
    {
     "data": {
      "image/png": "[encoded data removed]",
      "text/plain": [
       "<Figure size 432x288 with 1 Axes>"
      ]
     },
     "metadata": {
      "needs_background": "light"
     },
     "output_type": "display_data"
    }
   ],
   "source": [
    "# Plot training and test loss\n",
    "plt.plot(train_loss_list, label=\"Train\")\n",
    "plt.plot(test_loss_list, label=\"Test\")\n",
    "plt.legend()\n",
    "plt.show()"
   ]
  },
  {
   "cell_type": "markdown",
   "metadata": {
    "id": "YCOynApMMZZZ"
   },
   "source": [
    "### 看一下encoder的结果"
   ]
  },
  {
   "cell_type": "code",
   "execution_count": 16,
   "metadata": {
    "id": "L5v8bNARbBja"
   },
   "outputs": [],
   "source": [
    "data_tmp = test_dataset.data[0].view(-1)"
   ]
  },
  {
   "cell_type": "code",
   "execution_count": 17,
   "metadata": {
    "colab": {
     "base_uri": "https://localhost:8080/"
    },
    "id": "I34QMSI6eXZc",
    "outputId": "c58c6683-b72b-43ba-f027-6c0aabc98479"
   },
   "outputs": [
    {
     "data": {
      "text/plain": [
       "torch.Size([784])"
      ]
     },
     "execution_count": 17,
     "metadata": {},
     "output_type": "execute_result"
    }
   ],
   "source": [
    "data_tmp.shape"
   ]
  },
  {
   "cell_type": "code",
   "execution_count": 18,
   "metadata": {
    "colab": {
     "base_uri": "https://localhost:8080/"
    },
    "id": "xTGjTCuleZeU",
    "outputId": "d624d3ed-2f98-4d9b-8e0c-9a4d090cedf1"
   },
   "outputs": [
    {
     "data": {
      "text/plain": [
       "torch.uint8"
      ]
     },
     "execution_count": 18,
     "metadata": {},
     "output_type": "execute_result"
    }
   ],
   "source": [
    "data_tmp.dtype"
   ]
  },
  {
   "cell_type": "code",
   "execution_count": 19,
   "metadata": {
    "id": "goGlXmf6ebld"
   },
   "outputs": [],
   "source": [
    "data_tmp = data_tmp.float().to(device)"
   ]
  },
  {
   "cell_type": "code",
   "execution_count": 20,
   "metadata": {
    "colab": {
     "base_uri": "https://localhost:8080/"
    },
    "id": "bO8sqiGic7Zb",
    "outputId": "4d13dce7-1e3b-4db8-b563-55a0e3a394f9"
   },
   "outputs": [
    {
     "data": {
      "text/plain": [
       "torch.Size([10000, 784])"
      ]
     },
     "execution_count": 20,
     "metadata": {},
     "output_type": "execute_result"
    }
   ],
   "source": [
    "test_dataset.data.view(10000,-1).shape"
   ]
  },
  {
   "cell_type": "code",
   "execution_count": 21,
   "metadata": {
    "colab": {
     "base_uri": "https://localhost:8080/"
    },
    "id": "GNz64aKyd2_u",
    "outputId": "7054fe60-7d7a-4c10-a486-ca8c1d30ca28"
   },
   "outputs": [
    {
     "data": {
      "text/plain": [
       "tensor([-1947.6212,   793.4739,  1010.8380], device='cuda:0')"
      ]
     },
     "execution_count": 21,
     "metadata": {},
     "output_type": "execute_result"
    }
   ],
   "source": [
    "with torch.no_grad():\n",
    "  output = model.encoder(data_tmp)\n",
    "output"
   ]
  },
  {
   "cell_type": "code",
   "execution_count": 81,
   "metadata": {
    "id": "8eL7fMu1M3hP"
   },
   "outputs": [],
   "source": [
    "# 得到encoded 测试集\n",
    "model.eval() # Set model to evaluation mode\n",
    "with torch.no_grad(): # Disable gradient calculation\n",
    "    # Get input images and flatten them to vectors of size 784 (28*28)\n",
    "    img = test_dataset.data\n",
    "    img = img.view(10000,-1) \n",
    "    img = img.float().to(device) \n",
    "\n",
    "    # Forward pass to get reconstructed output \n",
    "    output = model.encoder(img) \n",
    "    test_encoded = output.cpu().numpy()\n"
   ]
  },
  {
   "cell_type": "code",
   "execution_count": 82,
   "metadata": {
    "colab": {
     "base_uri": "https://localhost:8080/"
    },
    "id": "x-UeSGt1fpMi",
    "outputId": "def18c42-ec7d-430b-9854-455052322fda"
   },
   "outputs": [
    {
     "data": {
      "text/plain": [
       "(10000, 3)"
      ]
     },
     "execution_count": 82,
     "metadata": {},
     "output_type": "execute_result"
    }
   ],
   "source": [
    "test_encoded.shape"
   ]
  },
  {
   "cell_type": "code",
   "execution_count": 83,
   "metadata": {
    "colab": {
     "base_uri": "https://localhost:8080/"
    },
    "id": "-gvFq-Izfuq1",
    "outputId": "9fe291fc-272a-4ef8-ff1b-f81c5aac1f0a"
   },
   "outputs": [
    {
     "data": {
      "text/plain": [
       "array([-440.385  ,  887.1012 ,  338.86945], dtype=float32)"
      ]
     },
     "execution_count": 83,
     "metadata": {},
     "output_type": "execute_result"
    }
   ],
   "source": [
    "test_encoded[0]"
   ]
  },
  {
   "cell_type": "markdown",
   "metadata": {
    "id": "eu7EsA2R4SfC"
   },
   "source": [
    "### 画出三维图"
   ]
  },
  {
   "cell_type": "code",
   "execution_count": 142,
   "metadata": {
    "colab": {
     "base_uri": "https://localhost:8080/",
     "height": 319
    },
    "id": "zNRHg3_Ua0ZE",
    "outputId": "0372d289-28cf-41b1-a598-51b4d9fce5b0"
   },
   "outputs": [
    {
     "data": {
      "image/png": "[encoded data removed]",
      "text/plain": [
       "<Figure size 432x288 with 1 Axes>"
      ]
     },
     "metadata": {
      "needs_background": "light"
     },
     "output_type": "display_data"
    }
   ],
   "source": [
    "# 用Axes3D画3d图\n",
    "from mpl_toolkits.mplot3d import Axes3D\n",
    "\n",
    "# 画3d图，标签为test_dataset.targets\n",
    "fig = plt.figure()\n",
    "ax = Axes3D(fig)\n",
    "ax.scatter(test_encoded[:,0], test_encoded[:,1], test_encoded[:,2], c=test_dataset.targets)\n",
    "plt.show()"
   ]
  },
  {
   "cell_type": "markdown",
   "metadata": {
    "id": "IHVaD1_Rj4Zg"
   },
   "source": [
    "### 保存数据"
   ]
  },
  {
   "cell_type": "code",
   "execution_count": 84,
   "metadata": {
    "id": "rUJvfudBhHDc"
   },
   "outputs": [],
   "source": [
    "import numpy as np\n",
    "import matplotlib.pyplot as plt\n",
    "# 保存 test_encoded 为 test_encoded.csv\n",
    "np.savetxt('test_encoded_fashionMnist.csv', test_encoded, delimiter = ',')\n",
    "\n",
    "# 保存 test_dataset.targets 为 test_dataset_targets.csv\n",
    "np.savetxt('test_dataset_targets_fashionMnist.csv', test_dataset.targets, delimiter = ',')"
   ]
  },
  {
   "cell_type": "markdown",
   "metadata": {
    "id": "_RyIeWJ4pCjk"
   },
   "source": [
    "### 查看测试集效果"
   ]
  },
  {
   "cell_type": "code",
   "execution_count": 85,
   "metadata": {
    "colab": {
     "base_uri": "https://localhost:8080/"
    },
    "id": "u_uUMieyj12L",
    "outputId": "82f4bfa9-06ce-4120-bb40-542c4fd9b6d8"
   },
   "outputs": [
    {
     "data": {
      "text/plain": [
       "array([ -652.92444,  1792.8131 , -4744.6997 ], dtype=float32)"
      ]
     },
     "execution_count": 85,
     "metadata": {},
     "output_type": "execute_result"
    }
   ],
   "source": [
    "test_encoded[3]"
   ]
  },
  {
   "cell_type": "code",
   "execution_count": 86,
   "metadata": {
    "colab": {
     "base_uri": "https://localhost:8080/"
    },
    "id": "9wZHRQYFnVGZ",
    "outputId": "cb33273b-b9d2-4724-bdda-c6f9df6674a7"
   },
   "outputs": [
    {
     "name": "stdout",
     "output_type": "stream",
     "text": [
      "mean [ -711.3988  2512.099  -1240.0192]\n",
      "std [ 979.6909 1675.2717 1836.2504]\n"
     ]
    }
   ],
   "source": [
    "mean = test_encoded.mean(axis=0)\n",
    "std = test_encoded.std(axis=0)\n",
    "print(\"mean\", mean)\n",
    "print(\"std\", std)"
   ]
  },
  {
   "cell_type": "code",
   "execution_count": 124,
   "metadata": {
    "colab": {
     "base_uri": "https://localhost:8080/",
     "height": 352
    },
    "id": "9zvlJAhwkNa7",
    "outputId": "912f247f-1e12-4429-9ad8-164832f06fec"
   },
   "outputs": [
    {
     "data": {
      "image/png": "[encoded data removed]",
      "text/plain": [
       "<Figure size 864x576 with 2 Axes>"
      ]
     },
     "metadata": {
      "needs_background": "light"
     },
     "output_type": "display_data"
    }
   ],
   "source": [
    "# rand_np = np.random.rand(1,3)*std + mean\n",
    "idx = 16\n",
    "rand_np = test_encoded[idx]\n",
    "tensor = torch.from_numpy(rand_np).float().to(device)\n",
    "\n",
    "# 得到encoded 测试集\n",
    "model.eval() # Set model to evaluation mode\n",
    "with torch.no_grad(): # Disable gradient calculation\n",
    "    # Forward pass to get reconstructed output \n",
    "    img = model.decoder(tensor) \n",
    "    img_np = img.cpu().numpy()\n",
    "\n",
    "plt.figure(figsize=(12,8))\n",
    "plt.subplot(1,2,1)\n",
    "plt.imshow(img_np.reshape(28,28), cmap='gray')\n",
    "plt.subplot(1,2,2)\n",
    "plt.imshow(test_dataset.data[idx], cmap='gray')\n",
    "plt.show()"
   ]
  },
  {
   "cell_type": "markdown",
   "metadata": {
    "id": "Y0P2isKF3Tj8"
   },
   "source": [
    "### 生成随机图片"
   ]
  },
  {
   "cell_type": "code",
   "execution_count": 143,
   "metadata": {
    "colab": {
     "base_uri": "https://localhost:8080/"
    },
    "id": "faqonKB159LU",
    "outputId": "1379fdc6-b7cb-49d6-818a-538421a49d8f"
   },
   "outputs": [
    {
     "name": "stdout",
     "output_type": "stream",
     "text": [
      "[[  75.45228515 3474.15970238 -136.45733898]]\n"
     ]
    }
   ],
   "source": [
    "rand_np = np.random.rand(1,3)*std + mean\n",
    "print(rand_np)"
   ]
  },
  {
   "cell_type": "code",
   "execution_count": 141,
   "metadata": {
    "colab": {
     "base_uri": "https://localhost:8080/",
     "height": 265
    },
    "id": "5-NYClpD3Vbe",
    "outputId": "acdf82a6-5066-459a-e4d1-63467ddf029d"
   },
   "outputs": [
    {
     "data": {
      "image/png": "[encoded data removed]",
      "text/plain": [
       "<Figure size 432x288 with 1 Axes>"
      ]
     },
     "metadata": {
      "needs_background": "light"
     },
     "output_type": "display_data"
    }
   ],
   "source": [
    "tensor = torch.from_numpy(rand_np).float().to(device)\n",
    "\n",
    "# 得到encoded 测试集\n",
    "model.eval() # Set model to evaluation mode\n",
    "with torch.no_grad(): # Disable gradient calculation\n",
    "    # Forward pass to get reconstructed output \n",
    "    img = model.decoder(tensor) \n",
    "    img_np = img.cpu().numpy()\n",
    "\n",
    "plt.figure()\n",
    "plt.imshow(img_np.reshape(28,28), cmap='gray')\n",
    "plt.show()"
   ]
  },
  {
   "cell_type": "markdown",
   "metadata": {
    "id": "K6OFRATP9uIl"
   },
   "source": [
    "### 看单独维度线性改变对生成图像影响"
   ]
  },
  {
   "cell_type": "code",
   "execution_count": 175,
   "metadata": {
    "colab": {
     "base_uri": "https://localhost:8080/",
     "height": 329
    },
    "id": "WJLtph7e6Ftq",
    "outputId": "76e77a5b-51c9-476b-a7e4-ba6fdec5784b"
   },
   "outputs": [
    {
     "data": {
      "image/png": "[encoded data removed]",
      "text/plain": [
       "<Figure size 3600x720 with 30 Axes>"
      ]
     },
     "metadata": {
      "needs_background": "light"
     },
     "output_type": "display_data"
    }
   ],
   "source": [
    "mask = np.array([1,0,0])\n",
    "plt.figure(figsize=(50,10))\n",
    "for i in range(30):\n",
    "  tmp = rand_np + mask * (i - 15) * 500\n",
    "  tensor = torch.from_numpy(tmp).float().to(device)\n",
    "  # 得到encoded 测试集\n",
    "  model.eval() # Set model to evaluation mode\n",
    "  with torch.no_grad(): # Disable gradient calculation\n",
    "      # Forward pass to get reconstructed output \n",
    "      img = model.decoder(tensor) \n",
    "      img_np = img.cpu().numpy()\n",
    "  plt.subplot(3,10,i+1)\n",
    "  plt.imshow(img_np.reshape(28,28), cmap='gray')\n",
    "plt.show()"
   ]
  },
  {
   "cell_type": "code",
   "execution_count": 176,
   "metadata": {
    "colab": {
     "base_uri": "https://localhost:8080/",
     "height": 329
    },
    "id": "q9K-U5l39-3s",
    "outputId": "380d8834-102e-4e8c-eff4-3203a16fb5b9"
   },
   "outputs": [
    {
     "data": {
      "image/png": "[encoded data removed]",
      "text/plain": [
       "<Figure size 3600x720 with 30 Axes>"
      ]
     },
     "metadata": {
      "needs_background": "light"
     },
     "output_type": "display_data"
    }
   ],
   "source": [
    "mask = np.array([0,1,0])\n",
    "plt.figure(figsize=(50,10))\n",
    "for i in range(30):\n",
    "  tmp = rand_np + mask * (i - 15) * 500\n",
    "  tensor = torch.from_numpy(tmp).float().to(device)\n",
    "  # 得到encoded 测试集\n",
    "  model.eval() # Set model to evaluation mode\n",
    "  with torch.no_grad(): # Disable gradient calculation\n",
    "      # Forward pass to get reconstructed output \n",
    "      img = model.decoder(tensor) \n",
    "      img_np = img.cpu().numpy()\n",
    "  plt.subplot(3,10,i+1)\n",
    "  plt.imshow(img_np.reshape(28,28), cmap='gray')\n",
    "plt.show()"
   ]
  },
  {
   "cell_type": "code",
   "execution_count": 177,
   "metadata": {
    "colab": {
     "base_uri": "https://localhost:8080/",
     "height": 329
    },
    "id": "Rcz4QeKH-QZY",
    "outputId": "d7332b01-eb16-42ce-98a4-23a261af546d"
   },
   "outputs": [
    {
     "data": {
      "image/png": "[encoded data removed]",
      "text/plain": [
       "<Figure size 3600x720 with 30 Axes>"
      ]
     },
     "metadata": {
      "needs_background": "light"
     },
     "output_type": "display_data"
    }
   ],
   "source": [
    "mask = np.array([0,0,1])\n",
    "plt.figure(figsize=(50,10))\n",
    "for i in range(30):\n",
    "  tmp = rand_np + mask * (i - 15) * 500\n",
    "  tensor = torch.from_numpy(tmp).float().to(device)\n",
    "  # 得到encoded 测试集\n",
    "  model.eval() # Set model to evaluation mode\n",
    "  with torch.no_grad(): # Disable gradient calculation\n",
    "      # Forward pass to get reconstructed output \n",
    "      img = model.decoder(tensor) \n",
    "      img_np = img.cpu().numpy()\n",
    "  plt.subplot(3,10,i+1)\n",
    "  plt.imshow(img_np.reshape(28,28), cmap='gray')\n",
    "plt.show()"
   ]
  },
  {
   "cell_type": "code",
   "execution_count": 178,
   "metadata": {
    "colab": {
     "base_uri": "https://localhost:8080/",
     "height": 329
    },
    "id": "u5vgYcVc-amG",
    "outputId": "6cb33347-c439-4d91-85d4-eaa413bf278b"
   },
   "outputs": [
    {
     "data": {
      "image/png": "[encoded data removed]",
      "text/plain": [
       "<Figure size 3600x720 with 30 Axes>"
      ]
     },
     "metadata": {
      "needs_background": "light"
     },
     "output_type": "display_data"
    }
   ],
   "source": [
    "mask = np.array([0,1,1])\n",
    "plt.figure(figsize=(50,10))\n",
    "for i in range(30):\n",
    "  tmp = rand_np + mask * (i - 15) * 500\n",
    "  tensor = torch.from_numpy(tmp).float().to(device)\n",
    "  # 得到encoded 测试集\n",
    "  model.eval() # Set model to evaluation mode\n",
    "  with torch.no_grad(): # Disable gradient calculation\n",
    "      # Forward pass to get reconstructed output \n",
    "      img = model.decoder(tensor) \n",
    "      img_np = img.cpu().numpy()\n",
    "  plt.subplot(3,10,i+1)\n",
    "  plt.imshow(img_np.reshape(28,28), cmap='gray')\n",
    "plt.show()"
   ]
  },
  {
   "cell_type": "code",
   "execution_count": 179,
   "metadata": {
    "colab": {
     "base_uri": "https://localhost:8080/",
     "height": 329
    },
    "id": "mq2HYiCC-gMl",
    "outputId": "c87c15ff-3546-4df0-e6aa-24e2203a8425"
   },
   "outputs": [
    {
     "data": {
      "image/png": "[encoded data removed]",
      "text/plain": [
       "<Figure size 3600x720 with 30 Axes>"
      ]
     },
     "metadata": {
      "needs_background": "light"
     },
     "output_type": "display_data"
    }
   ],
   "source": [
    "mask = np.array([1,0,1])\n",
    "plt.figure(figsize=(50,10))\n",
    "for i in range(30):\n",
    "  tmp = rand_np + mask * (i - 15) * 500\n",
    "  tensor = torch.from_numpy(tmp).float().to(device)\n",
    "  # 得到encoded 测试集\n",
    "  model.eval() # Set model to evaluation mode\n",
    "  with torch.no_grad(): # Disable gradient calculation\n",
    "      # Forward pass to get reconstructed output \n",
    "      img = model.decoder(tensor) \n",
    "      img_np = img.cpu().numpy()\n",
    "  plt.subplot(3,10,i+1)\n",
    "  plt.imshow(img_np.reshape(28,28), cmap='gray')\n",
    "plt.show()"
   ]
  },
  {
   "cell_type": "code",
   "execution_count": 180,
   "metadata": {
    "colab": {
     "base_uri": "https://localhost:8080/",
     "height": 329
    },
    "id": "24dC2876-n2i",
    "outputId": "457827a0-d2ce-4234-8dc5-9318005e0ae5"
   },
   "outputs": [
    {
     "data": {
      "image/png": "[encoded data removed]",
      "text/plain": [
       "<Figure size 3600x720 with 30 Axes>"
      ]
     },
     "metadata": {
      "needs_background": "light"
     },
     "output_type": "display_data"
    }
   ],
   "source": [
    "mask = np.array([1,1,0])\n",
    "plt.figure(figsize=(50,10))\n",
    "for i in range(30):\n",
    "  tmp = rand_np + mask * (i - 15) * 500\n",
    "  tensor = torch.from_numpy(tmp).float().to(device)\n",
    "  # 得到encoded 测试集\n",
    "  model.eval() # Set model to evaluation mode\n",
    "  with torch.no_grad(): # Disable gradient calculation\n",
    "      # Forward pass to get reconstructed output \n",
    "      img = model.decoder(tensor) \n",
    "      img_np = img.cpu().numpy()\n",
    "  plt.subplot(3,10,i+1)\n",
    "  plt.imshow(img_np.reshape(28,28), cmap='gray')\n",
    "plt.show()"
   ]
  },
  {
   "cell_type": "code",
   "execution_count": 181,
   "metadata": {
    "colab": {
     "base_uri": "https://localhost:8080/",
     "height": 329
    },
    "id": "-V4SaQPY-s3y",
    "outputId": "bb814c03-20f3-4848-ad0f-2c115183cc03"
   },
   "outputs": [
    {
     "data": {
      "image/png": "[encoded data removed]",
      "text/plain": [
       "<Figure size 3600x720 with 30 Axes>"
      ]
     },
     "metadata": {
      "needs_background": "light"
     },
     "output_type": "display_data"
    }
   ],
   "source": [
    "mask = np.array([1,1,1])\n",
    "plt.figure(figsize=(50,10))\n",
    "for i in range(30):\n",
    "  tmp = rand_np + mask * (i - 15) * 500\n",
    "  tensor = torch.from_numpy(tmp).float().to(device)\n",
    "  # 得到encoded 测试集\n",
    "  model.eval() # Set model to evaluation mode\n",
    "  with torch.no_grad(): # Disable gradient calculation\n",
    "      # Forward pass to get reconstructed output \n",
    "      img = model.decoder(tensor) \n",
    "      img_np = img.cpu().numpy()\n",
    "  plt.subplot(3,10,i+1)\n",
    "  plt.imshow(img_np.reshape(28,28), cmap='gray')\n",
    "plt.show()"
   ]
  }
 ],
 "metadata": {
  "accelerator": "GPU",
  "colab": {
   "provenance": [],
   "toc_visible": true
  },
  "gpuClass": "standard",
  "kernelspec": {
   "display_name": "Python 3 (ipykernel)",
   "language": "python",
   "name": "python3"
  },
  "language_info": {
   "codemirror_mode": {
    "name": "ipython",
    "version": 3
   },
   "file_extension": ".py",
   "mimetype": "text/x-python",
   "name": "python",
   "nbconvert_exporter": "python",
   "pygments_lexer": "ipython3",
   "version": "3.9.7"
  },
  "vscode": {
   "interpreter": {
    "hash": "5179d32cf6ec497baf3f8a3ef987cc77c5d2dc691fdde20a56316522f61a7323"
   }
  },
  "widgets": {
   "application/vnd.jupyter.widget-state+json": {
    "054e103663d34e25a5a38bafc839311a": {
     "model_module": "@jupyter-widgets/base",
     "model_module_version": "1.2.0",
     "model_name": "LayoutModel",
     "state": {
      "_model_module": "@jupyter-widgets/base",
      "_model_module_version": "1.2.0",
      "_model_name": "LayoutModel",
      "_view_count": null,
      "_view_module": "@jupyter-widgets/base",
      "_view_module_version": "1.2.0",
      "_view_name": "LayoutView",
      "align_content": null,
      "align_items": null,
      "align_self": null,
      "border": null,
      "bottom": null,
      "display": null,
      "flex": null,
      "flex_flow": null,
      "grid_area": null,
      "grid_auto_columns": null,
      "grid_auto_flow": null,
      "grid_auto_rows": null,
      "grid_column": null,
      "grid_gap": null,
      "grid_row": null,
      "grid_template_areas": null,
      "grid_template_columns": null,
      "grid_template_rows": null,
      "height": null,
      "justify_content": null,
      "justify_items": null,
      "left": null,
      "margin": null,
      "max_height": null,
      "max_width": null,
      "min_height": null,
      "min_width": null,
      "object_fit": null,
      "object_position": null,
      "order": null,
      "overflow": null,
      "overflow_x": null,
      "overflow_y": null,
      "padding": null,
      "right": null,
      "top": null,
      "visibility": null,
      "width": null
     }
    },
    "09d7f32a66b8457d9f9e36b4764ae99e": {
     "model_module": "@jupyter-widgets/controls",
     "model_module_version": "1.5.0",
     "model_name": "HTMLModel",
     "state": {
      "_dom_classes": [],
      "_model_module": "@jupyter-widgets/controls",
      "_model_module_version": "1.5.0",
      "_model_name": "HTMLModel",
      "_view_count": null,
      "_view_module": "@jupyter-widgets/controls",
      "_view_module_version": "1.5.0",
      "_view_name": "HTMLView",
      "description": "",
      "description_tooltip": null,
      "layout": "IPY_MODEL_c2d09a3a44934e18b339772593060fa7",
      "placeholder": "​",
      "style": "IPY_MODEL_7643e23d57404d78be6f28b4398a0dfc",
      "value": " 29515/29515 [00:00&lt;00:00, 266336.67it/s]"
     }
    },
    "0d30a49675c745879fdf8fb82b2c8c81": {
     "model_module": "@jupyter-widgets/base",
     "model_module_version": "1.2.0",
     "model_name": "LayoutModel",
     "state": {
      "_model_module": "@jupyter-widgets/base",
      "_model_module_version": "1.2.0",
      "_model_name": "LayoutModel",
      "_view_count": null,
      "_view_module": "@jupyter-widgets/base",
      "_view_module_version": "1.2.0",
      "_view_name": "LayoutView",
      "align_content": null,
      "align_items": null,
      "align_self": null,
      "border": null,
      "bottom": null,
      "display": null,
      "flex": null,
      "flex_flow": null,
      "grid_area": null,
      "grid_auto_columns": null,
      "grid_auto_flow": null,
      "grid_auto_rows": null,
      "grid_column": null,
      "grid_gap": null,
      "grid_row": null,
      "grid_template_areas": null,
      "grid_template_columns": null,
      "grid_template_rows": null,
      "height": null,
      "justify_content": null,
      "justify_items": null,
      "left": null,
      "margin": null,
      "max_height": null,
      "max_width": null,
      "min_height": null,
      "min_width": null,
      "object_fit": null,
      "object_position": null,
      "order": null,
      "overflow": null,
      "overflow_x": null,
      "overflow_y": null,
      "padding": null,
      "right": null,
      "top": null,
      "visibility": null,
      "width": null
     }
    },
    "0e6ffe07c51948f8a4b39083449bd33f": {
     "model_module": "@jupyter-widgets/controls",
     "model_module_version": "1.5.0",
     "model_name": "HTMLModel",
     "state": {
      "_dom_classes": [],
      "_model_module": "@jupyter-widgets/controls",
      "_model_module_version": "1.5.0",
      "_model_name": "HTMLModel",
      "_view_count": null,
      "_view_module": "@jupyter-widgets/controls",
      "_view_module_version": "1.5.0",
      "_view_name": "HTMLView",
      "description": "",
      "description_tooltip": null,
      "layout": "IPY_MODEL_054e103663d34e25a5a38bafc839311a",
      "placeholder": "​",
      "style": "IPY_MODEL_3e42f9eb5edc4eefa450bc4a39be7523",
      "value": "100%"
     }
    },
    "11840aefe1be47618d4d18a31eb09a18": {
     "model_module": "@jupyter-widgets/base",
     "model_module_version": "1.2.0",
     "model_name": "LayoutModel",
     "state": {
      "_model_module": "@jupyter-widgets/base",
      "_model_module_version": "1.2.0",
      "_model_name": "LayoutModel",
      "_view_count": null,
      "_view_module": "@jupyter-widgets/base",
      "_view_module_version": "1.2.0",
      "_view_name": "LayoutView",
      "align_content": null,
      "align_items": null,
      "align_self": null,
      "border": null,
      "bottom": null,
      "display": null,
      "flex": null,
      "flex_flow": null,
      "grid_area": null,
      "grid_auto_columns": null,
      "grid_auto_flow": null,
      "grid_auto_rows": null,
      "grid_column": null,
      "grid_gap": null,
      "grid_row": null,
      "grid_template_areas": null,
      "grid_template_columns": null,
      "grid_template_rows": null,
      "height": null,
      "justify_content": null,
      "justify_items": null,
      "left": null,
      "margin": null,
      "max_height": null,
      "max_width": null,
      "min_height": null,
      "min_width": null,
      "object_fit": null,
      "object_position": null,
      "order": null,
      "overflow": null,
      "overflow_x": null,
      "overflow_y": null,
      "padding": null,
      "right": null,
      "top": null,
      "visibility": null,
      "width": null
     }
    },
    "16186c89c1d34d70a767ea30a922778b": {
     "model_module": "@jupyter-widgets/base",
     "model_module_version": "1.2.0",
     "model_name": "LayoutModel",
     "state": {
      "_model_module": "@jupyter-widgets/base",
      "_model_module_version": "1.2.0",
      "_model_name": "LayoutModel",
      "_view_count": null,
      "_view_module": "@jupyter-widgets/base",
      "_view_module_version": "1.2.0",
      "_view_name": "LayoutView",
      "align_content": null,
      "align_items": null,
      "align_self": null,
      "border": null,
      "bottom": null,
      "display": null,
      "flex": null,
      "flex_flow": null,
      "grid_area": null,
      "grid_auto_columns": null,
      "grid_auto_flow": null,
      "grid_auto_rows": null,
      "grid_column": null,
      "grid_gap": null,
      "grid_row": null,
      "grid_template_areas": null,
      "grid_template_columns": null,
      "grid_template_rows": null,
      "height": null,
      "justify_content": null,
      "justify_items": null,
      "left": null,
      "margin": null,
      "max_height": null,
      "max_width": null,
      "min_height": null,
      "min_width": null,
      "object_fit": null,
      "object_position": null,
      "order": null,
      "overflow": null,
      "overflow_x": null,
      "overflow_y": null,
      "padding": null,
      "right": null,
      "top": null,
      "visibility": null,
      "width": null
     }
    },
    "163ff1e8081548998898e0749693f82f": {
     "model_module": "@jupyter-widgets/base",
     "model_module_version": "1.2.0",
     "model_name": "LayoutModel",
     "state": {
      "_model_module": "@jupyter-widgets/base",
      "_model_module_version": "1.2.0",
      "_model_name": "LayoutModel",
      "_view_count": null,
      "_view_module": "@jupyter-widgets/base",
      "_view_module_version": "1.2.0",
      "_view_name": "LayoutView",
      "align_content": null,
      "align_items": null,
      "align_self": null,
      "border": null,
      "bottom": null,
      "display": null,
      "flex": null,
      "flex_flow": null,
      "grid_area": null,
      "grid_auto_columns": null,
      "grid_auto_flow": null,
      "grid_auto_rows": null,
      "grid_column": null,
      "grid_gap": null,
      "grid_row": null,
      "grid_template_areas": null,
      "grid_template_columns": null,
      "grid_template_rows": null,
      "height": null,
      "justify_content": null,
      "justify_items": null,
      "left": null,
      "margin": null,
      "max_height": null,
      "max_width": null,
      "min_height": null,
      "min_width": null,
      "object_fit": null,
      "object_position": null,
      "order": null,
      "overflow": null,
      "overflow_x": null,
      "overflow_y": null,
      "padding": null,
      "right": null,
      "top": null,
      "visibility": null,
      "width": null
     }
    },
    "1bd9597311af401caeb667b47e28cae8": {
     "model_module": "@jupyter-widgets/controls",
     "model_module_version": "1.5.0",
     "model_name": "HBoxModel",
     "state": {
      "_dom_classes": [],
      "_model_module": "@jupyter-widgets/controls",
      "_model_module_version": "1.5.0",
      "_model_name": "HBoxModel",
      "_view_count": null,
      "_view_module": "@jupyter-widgets/controls",
      "_view_module_version": "1.5.0",
      "_view_name": "HBoxView",
      "box_style": "",
      "children": [
       "IPY_MODEL_3f57e2e95feb4050b018eb5c1bcc3b04",
       "IPY_MODEL_e77cd0f015484ce7b1cf3a9a2117ce76",
       "IPY_MODEL_09d7f32a66b8457d9f9e36b4764ae99e"
      ],
      "layout": "IPY_MODEL_11840aefe1be47618d4d18a31eb09a18"
     }
    },
    "213252b1f5524056925999707a4c534d": {
     "model_module": "@jupyter-widgets/controls",
     "model_module_version": "1.5.0",
     "model_name": "ProgressStyleModel",
     "state": {
      "_model_module": "@jupyter-widgets/controls",
      "_model_module_version": "1.5.0",
      "_model_name": "ProgressStyleModel",
      "_view_count": null,
      "_view_module": "@jupyter-widgets/base",
      "_view_module_version": "1.2.0",
      "_view_name": "StyleView",
      "bar_color": null,
      "description_width": ""
     }
    },
    "2a81e45f336e41548c23e723cbe35a70": {
     "model_module": "@jupyter-widgets/controls",
     "model_module_version": "1.5.0",
     "model_name": "DescriptionStyleModel",
     "state": {
      "_model_module": "@jupyter-widgets/controls",
      "_model_module_version": "1.5.0",
      "_model_name": "DescriptionStyleModel",
      "_view_count": null,
      "_view_module": "@jupyter-widgets/base",
      "_view_module_version": "1.2.0",
      "_view_name": "StyleView",
      "description_width": ""
     }
    },
    "2b478a96059643208b39292bcd9a0d34": {
     "model_module": "@jupyter-widgets/controls",
     "model_module_version": "1.5.0",
     "model_name": "DescriptionStyleModel",
     "state": {
      "_model_module": "@jupyter-widgets/controls",
      "_model_module_version": "1.5.0",
      "_model_name": "DescriptionStyleModel",
      "_view_count": null,
      "_view_module": "@jupyter-widgets/base",
      "_view_module_version": "1.2.0",
      "_view_name": "StyleView",
      "description_width": ""
     }
    },
    "3725cab4e30545fea1c52396d7db9a14": {
     "model_module": "@jupyter-widgets/base",
     "model_module_version": "1.2.0",
     "model_name": "LayoutModel",
     "state": {
      "_model_module": "@jupyter-widgets/base",
      "_model_module_version": "1.2.0",
      "_model_name": "LayoutModel",
      "_view_count": null,
      "_view_module": "@jupyter-widgets/base",
      "_view_module_version": "1.2.0",
      "_view_name": "LayoutView",
      "align_content": null,
      "align_items": null,
      "align_self": null,
      "border": null,
      "bottom": null,
      "display": null,
      "flex": null,
      "flex_flow": null,
      "grid_area": null,
      "grid_auto_columns": null,
      "grid_auto_flow": null,
      "grid_auto_rows": null,
      "grid_column": null,
      "grid_gap": null,
      "grid_row": null,
      "grid_template_areas": null,
      "grid_template_columns": null,
      "grid_template_rows": null,
      "height": null,
      "justify_content": null,
      "justify_items": null,
      "left": null,
      "margin": null,
      "max_height": null,
      "max_width": null,
      "min_height": null,
      "min_width": null,
      "object_fit": null,
      "object_position": null,
      "order": null,
      "overflow": null,
      "overflow_x": null,
      "overflow_y": null,
      "padding": null,
      "right": null,
      "top": null,
      "visibility": null,
      "width": null
     }
    },
    "38f57dfe3198492599e758fac63a3e35": {
     "model_module": "@jupyter-widgets/base",
     "model_module_version": "1.2.0",
     "model_name": "LayoutModel",
     "state": {
      "_model_module": "@jupyter-widgets/base",
      "_model_module_version": "1.2.0",
      "_model_name": "LayoutModel",
      "_view_count": null,
      "_view_module": "@jupyter-widgets/base",
      "_view_module_version": "1.2.0",
      "_view_name": "LayoutView",
      "align_content": null,
      "align_items": null,
      "align_self": null,
      "border": null,
      "bottom": null,
      "display": null,
      "flex": null,
      "flex_flow": null,
      "grid_area": null,
      "grid_auto_columns": null,
      "grid_auto_flow": null,
      "grid_auto_rows": null,
      "grid_column": null,
      "grid_gap": null,
      "grid_row": null,
      "grid_template_areas": null,
      "grid_template_columns": null,
      "grid_template_rows": null,
      "height": null,
      "justify_content": null,
      "justify_items": null,
      "left": null,
      "margin": null,
      "max_height": null,
      "max_width": null,
      "min_height": null,
      "min_width": null,
      "object_fit": null,
      "object_position": null,
      "order": null,
      "overflow": null,
      "overflow_x": null,
      "overflow_y": null,
      "padding": null,
      "right": null,
      "top": null,
      "visibility": null,
      "width": null
     }
    },
    "3e42f9eb5edc4eefa450bc4a39be7523": {
     "model_module": "@jupyter-widgets/controls",
     "model_module_version": "1.5.0",
     "model_name": "DescriptionStyleModel",
     "state": {
      "_model_module": "@jupyter-widgets/controls",
      "_model_module_version": "1.5.0",
      "_model_name": "DescriptionStyleModel",
      "_view_count": null,
      "_view_module": "@jupyter-widgets/base",
      "_view_module_version": "1.2.0",
      "_view_name": "StyleView",
      "description_width": ""
     }
    },
    "3f57e2e95feb4050b018eb5c1bcc3b04": {
     "model_module": "@jupyter-widgets/controls",
     "model_module_version": "1.5.0",
     "model_name": "HTMLModel",
     "state": {
      "_dom_classes": [],
      "_model_module": "@jupyter-widgets/controls",
      "_model_module_version": "1.5.0",
      "_model_name": "HTMLModel",
      "_view_count": null,
      "_view_module": "@jupyter-widgets/controls",
      "_view_module_version": "1.5.0",
      "_view_name": "HTMLView",
      "description": "",
      "description_tooltip": null,
      "layout": "IPY_MODEL_0d30a49675c745879fdf8fb82b2c8c81",
      "placeholder": "​",
      "style": "IPY_MODEL_d3d7f0b5239540d7b63974b31396e69c",
      "value": "100%"
     }
    },
    "431de5029ac84e4dbb1ef2522a1c2e57": {
     "model_module": "@jupyter-widgets/controls",
     "model_module_version": "1.5.0",
     "model_name": "ProgressStyleModel",
     "state": {
      "_model_module": "@jupyter-widgets/controls",
      "_model_module_version": "1.5.0",
      "_model_name": "ProgressStyleModel",
      "_view_count": null,
      "_view_module": "@jupyter-widgets/base",
      "_view_module_version": "1.2.0",
      "_view_name": "StyleView",
      "bar_color": null,
      "description_width": ""
     }
    },
    "534f2bb383804124aea032f34a3601c7": {
     "model_module": "@jupyter-widgets/base",
     "model_module_version": "1.2.0",
     "model_name": "LayoutModel",
     "state": {
      "_model_module": "@jupyter-widgets/base",
      "_model_module_version": "1.2.0",
      "_model_name": "LayoutModel",
      "_view_count": null,
      "_view_module": "@jupyter-widgets/base",
      "_view_module_version": "1.2.0",
      "_view_name": "LayoutView",
      "align_content": null,
      "align_items": null,
      "align_self": null,
      "border": null,
      "bottom": null,
      "display": null,
      "flex": null,
      "flex_flow": null,
      "grid_area": null,
      "grid_auto_columns": null,
      "grid_auto_flow": null,
      "grid_auto_rows": null,
      "grid_column": null,
      "grid_gap": null,
      "grid_row": null,
      "grid_template_areas": null,
      "grid_template_columns": null,
      "grid_template_rows": null,
      "height": null,
      "justify_content": null,
      "justify_items": null,
      "left": null,
      "margin": null,
      "max_height": null,
      "max_width": null,
      "min_height": null,
      "min_width": null,
      "object_fit": null,
      "object_position": null,
      "order": null,
      "overflow": null,
      "overflow_x": null,
      "overflow_y": null,
      "padding": null,
      "right": null,
      "top": null,
      "visibility": null,
      "width": null
     }
    },
    "53c7576c5f32427b99b0d740e256409b": {
     "model_module": "@jupyter-widgets/controls",
     "model_module_version": "1.5.0",
     "model_name": "DescriptionStyleModel",
     "state": {
      "_model_module": "@jupyter-widgets/controls",
      "_model_module_version": "1.5.0",
      "_model_name": "DescriptionStyleModel",
      "_view_count": null,
      "_view_module": "@jupyter-widgets/base",
      "_view_module_version": "1.2.0",
      "_view_name": "StyleView",
      "description_width": ""
     }
    },
    "70ae6a73873f43409cbf94c48422cc21": {
     "model_module": "@jupyter-widgets/controls",
     "model_module_version": "1.5.0",
     "model_name": "HTMLModel",
     "state": {
      "_dom_classes": [],
      "_model_module": "@jupyter-widgets/controls",
      "_model_module_version": "1.5.0",
      "_model_name": "HTMLModel",
      "_view_count": null,
      "_view_module": "@jupyter-widgets/controls",
      "_view_module_version": "1.5.0",
      "_view_name": "HTMLView",
      "description": "",
      "description_tooltip": null,
      "layout": "IPY_MODEL_8f5f7426ab29419291f454de3a80867b",
      "placeholder": "​",
      "style": "IPY_MODEL_7aa31b28c39b4fad86dcd2d1b8b69e90",
      "value": " 4422102/4422102 [00:00&lt;00:00, 8411162.18it/s]"
     }
    },
    "7332a4a01d8f455b9c11fd4ce5b818dc": {
     "model_module": "@jupyter-widgets/base",
     "model_module_version": "1.2.0",
     "model_name": "LayoutModel",
     "state": {
      "_model_module": "@jupyter-widgets/base",
      "_model_module_version": "1.2.0",
      "_model_name": "LayoutModel",
      "_view_count": null,
      "_view_module": "@jupyter-widgets/base",
      "_view_module_version": "1.2.0",
      "_view_name": "LayoutView",
      "align_content": null,
      "align_items": null,
      "align_self": null,
      "border": null,
      "bottom": null,
      "display": null,
      "flex": null,
      "flex_flow": null,
      "grid_area": null,
      "grid_auto_columns": null,
      "grid_auto_flow": null,
      "grid_auto_rows": null,
      "grid_column": null,
      "grid_gap": null,
      "grid_row": null,
      "grid_template_areas": null,
      "grid_template_columns": null,
      "grid_template_rows": null,
      "height": null,
      "justify_content": null,
      "justify_items": null,
      "left": null,
      "margin": null,
      "max_height": null,
      "max_width": null,
      "min_height": null,
      "min_width": null,
      "object_fit": null,
      "object_position": null,
      "order": null,
      "overflow": null,
      "overflow_x": null,
      "overflow_y": null,
      "padding": null,
      "right": null,
      "top": null,
      "visibility": null,
      "width": null
     }
    },
    "7643e23d57404d78be6f28b4398a0dfc": {
     "model_module": "@jupyter-widgets/controls",
     "model_module_version": "1.5.0",
     "model_name": "DescriptionStyleModel",
     "state": {
      "_model_module": "@jupyter-widgets/controls",
      "_model_module_version": "1.5.0",
      "_model_name": "DescriptionStyleModel",
      "_view_count": null,
      "_view_module": "@jupyter-widgets/base",
      "_view_module_version": "1.2.0",
      "_view_name": "StyleView",
      "description_width": ""
     }
    },
    "77c6430345474d3c8f89d06953cd7185": {
     "model_module": "@jupyter-widgets/controls",
     "model_module_version": "1.5.0",
     "model_name": "FloatProgressModel",
     "state": {
      "_dom_classes": [],
      "_model_module": "@jupyter-widgets/controls",
      "_model_module_version": "1.5.0",
      "_model_name": "FloatProgressModel",
      "_view_count": null,
      "_view_module": "@jupyter-widgets/controls",
      "_view_module_version": "1.5.0",
      "_view_name": "ProgressView",
      "bar_style": "success",
      "description": "",
      "description_tooltip": null,
      "layout": "IPY_MODEL_16186c89c1d34d70a767ea30a922778b",
      "max": 4422102,
      "min": 0,
      "orientation": "horizontal",
      "style": "IPY_MODEL_efc5d2741f7649fbbca370963fd04526",
      "value": 4422102
     }
    },
    "7aa31b28c39b4fad86dcd2d1b8b69e90": {
     "model_module": "@jupyter-widgets/controls",
     "model_module_version": "1.5.0",
     "model_name": "DescriptionStyleModel",
     "state": {
      "_model_module": "@jupyter-widgets/controls",
      "_model_module_version": "1.5.0",
      "_model_name": "DescriptionStyleModel",
      "_view_count": null,
      "_view_module": "@jupyter-widgets/base",
      "_view_module_version": "1.2.0",
      "_view_name": "StyleView",
      "description_width": ""
     }
    },
    "811ae85f3f86495189df39cd08dee512": {
     "model_module": "@jupyter-widgets/base",
     "model_module_version": "1.2.0",
     "model_name": "LayoutModel",
     "state": {
      "_model_module": "@jupyter-widgets/base",
      "_model_module_version": "1.2.0",
      "_model_name": "LayoutModel",
      "_view_count": null,
      "_view_module": "@jupyter-widgets/base",
      "_view_module_version": "1.2.0",
      "_view_name": "LayoutView",
      "align_content": null,
      "align_items": null,
      "align_self": null,
      "border": null,
      "bottom": null,
      "display": null,
      "flex": null,
      "flex_flow": null,
      "grid_area": null,
      "grid_auto_columns": null,
      "grid_auto_flow": null,
      "grid_auto_rows": null,
      "grid_column": null,
      "grid_gap": null,
      "grid_row": null,
      "grid_template_areas": null,
      "grid_template_columns": null,
      "grid_template_rows": null,
      "height": null,
      "justify_content": null,
      "justify_items": null,
      "left": null,
      "margin": null,
      "max_height": null,
      "max_width": null,
      "min_height": null,
      "min_width": null,
      "object_fit": null,
      "object_position": null,
      "order": null,
      "overflow": null,
      "overflow_x": null,
      "overflow_y": null,
      "padding": null,
      "right": null,
      "top": null,
      "visibility": null,
      "width": null
     }
    },
    "8f5f7426ab29419291f454de3a80867b": {
     "model_module": "@jupyter-widgets/base",
     "model_module_version": "1.2.0",
     "model_name": "LayoutModel",
     "state": {
      "_model_module": "@jupyter-widgets/base",
      "_model_module_version": "1.2.0",
      "_model_name": "LayoutModel",
      "_view_count": null,
      "_view_module": "@jupyter-widgets/base",
      "_view_module_version": "1.2.0",
      "_view_name": "LayoutView",
      "align_content": null,
      "align_items": null,
      "align_self": null,
      "border": null,
      "bottom": null,
      "display": null,
      "flex": null,
      "flex_flow": null,
      "grid_area": null,
      "grid_auto_columns": null,
      "grid_auto_flow": null,
      "grid_auto_rows": null,
      "grid_column": null,
      "grid_gap": null,
      "grid_row": null,
      "grid_template_areas": null,
      "grid_template_columns": null,
      "grid_template_rows": null,
      "height": null,
      "justify_content": null,
      "justify_items": null,
      "left": null,
      "margin": null,
      "max_height": null,
      "max_width": null,
      "min_height": null,
      "min_width": null,
      "object_fit": null,
      "object_position": null,
      "order": null,
      "overflow": null,
      "overflow_x": null,
      "overflow_y": null,
      "padding": null,
      "right": null,
      "top": null,
      "visibility": null,
      "width": null
     }
    },
    "905facbe89a84948820f9d061b2ffdf9": {
     "model_module": "@jupyter-widgets/controls",
     "model_module_version": "1.5.0",
     "model_name": "ProgressStyleModel",
     "state": {
      "_model_module": "@jupyter-widgets/controls",
      "_model_module_version": "1.5.0",
      "_model_name": "ProgressStyleModel",
      "_view_count": null,
      "_view_module": "@jupyter-widgets/base",
      "_view_module_version": "1.2.0",
      "_view_name": "StyleView",
      "bar_color": null,
      "description_width": ""
     }
    },
    "9b27155ed3af4dcf9960870a6ed47bed": {
     "model_module": "@jupyter-widgets/base",
     "model_module_version": "1.2.0",
     "model_name": "LayoutModel",
     "state": {
      "_model_module": "@jupyter-widgets/base",
      "_model_module_version": "1.2.0",
      "_model_name": "LayoutModel",
      "_view_count": null,
      "_view_module": "@jupyter-widgets/base",
      "_view_module_version": "1.2.0",
      "_view_name": "LayoutView",
      "align_content": null,
      "align_items": null,
      "align_self": null,
      "border": null,
      "bottom": null,
      "display": null,
      "flex": null,
      "flex_flow": null,
      "grid_area": null,
      "grid_auto_columns": null,
      "grid_auto_flow": null,
      "grid_auto_rows": null,
      "grid_column": null,
      "grid_gap": null,
      "grid_row": null,
      "grid_template_areas": null,
      "grid_template_columns": null,
      "grid_template_rows": null,
      "height": null,
      "justify_content": null,
      "justify_items": null,
      "left": null,
      "margin": null,
      "max_height": null,
      "max_width": null,
      "min_height": null,
      "min_width": null,
      "object_fit": null,
      "object_position": null,
      "order": null,
      "overflow": null,
      "overflow_x": null,
      "overflow_y": null,
      "padding": null,
      "right": null,
      "top": null,
      "visibility": null,
      "width": null
     }
    },
    "9c39085a9aef40f6ba45c38d75b12f8e": {
     "model_module": "@jupyter-widgets/controls",
     "model_module_version": "1.5.0",
     "model_name": "HTMLModel",
     "state": {
      "_dom_classes": [],
      "_model_module": "@jupyter-widgets/controls",
      "_model_module_version": "1.5.0",
      "_model_name": "HTMLModel",
      "_view_count": null,
      "_view_module": "@jupyter-widgets/controls",
      "_view_module_version": "1.5.0",
      "_view_name": "HTMLView",
      "description": "",
      "description_tooltip": null,
      "layout": "IPY_MODEL_e3cb6a483f494612abe018240470a42f",
      "placeholder": "​",
      "style": "IPY_MODEL_2b478a96059643208b39292bcd9a0d34",
      "value": "100%"
     }
    },
    "9e1d4f52dc594b099f05ac3faa3ba6f0": {
     "model_module": "@jupyter-widgets/controls",
     "model_module_version": "1.5.0",
     "model_name": "FloatProgressModel",
     "state": {
      "_dom_classes": [],
      "_model_module": "@jupyter-widgets/controls",
      "_model_module_version": "1.5.0",
      "_model_name": "FloatProgressModel",
      "_view_count": null,
      "_view_module": "@jupyter-widgets/controls",
      "_view_module_version": "1.5.0",
      "_view_name": "ProgressView",
      "bar_style": "success",
      "description": "",
      "description_tooltip": null,
      "layout": "IPY_MODEL_3725cab4e30545fea1c52396d7db9a14",
      "max": 26421880,
      "min": 0,
      "orientation": "horizontal",
      "style": "IPY_MODEL_905facbe89a84948820f9d061b2ffdf9",
      "value": 26421880
     }
    },
    "9f7ebcad66d046d8bf7391472bb426d9": {
     "model_module": "@jupyter-widgets/controls",
     "model_module_version": "1.5.0",
     "model_name": "FloatProgressModel",
     "state": {
      "_dom_classes": [],
      "_model_module": "@jupyter-widgets/controls",
      "_model_module_version": "1.5.0",
      "_model_name": "FloatProgressModel",
      "_view_count": null,
      "_view_module": "@jupyter-widgets/controls",
      "_view_module_version": "1.5.0",
      "_view_name": "ProgressView",
      "bar_style": "success",
      "description": "",
      "description_tooltip": null,
      "layout": "IPY_MODEL_eb3906ab4d8947c19197e08ce200c502",
      "max": 5148,
      "min": 0,
      "orientation": "horizontal",
      "style": "IPY_MODEL_431de5029ac84e4dbb1ef2522a1c2e57",
      "value": 5148
     }
    },
    "accc8ca0d07044c2bdb697e568caa0b4": {
     "model_module": "@jupyter-widgets/controls",
     "model_module_version": "1.5.0",
     "model_name": "HTMLModel",
     "state": {
      "_dom_classes": [],
      "_model_module": "@jupyter-widgets/controls",
      "_model_module_version": "1.5.0",
      "_model_name": "HTMLModel",
      "_view_count": null,
      "_view_module": "@jupyter-widgets/controls",
      "_view_module_version": "1.5.0",
      "_view_name": "HTMLView",
      "description": "",
      "description_tooltip": null,
      "layout": "IPY_MODEL_163ff1e8081548998898e0749693f82f",
      "placeholder": "​",
      "style": "IPY_MODEL_53c7576c5f32427b99b0d740e256409b",
      "value": " 5148/5148 [00:00&lt;00:00, 384081.20it/s]"
     }
    },
    "b3013900d3764e72b00ab56f285d9ea8": {
     "model_module": "@jupyter-widgets/controls",
     "model_module_version": "1.5.0",
     "model_name": "HBoxModel",
     "state": {
      "_dom_classes": [],
      "_model_module": "@jupyter-widgets/controls",
      "_model_module_version": "1.5.0",
      "_model_name": "HBoxModel",
      "_view_count": null,
      "_view_module": "@jupyter-widgets/controls",
      "_view_module_version": "1.5.0",
      "_view_name": "HBoxView",
      "box_style": "",
      "children": [
       "IPY_MODEL_0e6ffe07c51948f8a4b39083449bd33f",
       "IPY_MODEL_9f7ebcad66d046d8bf7391472bb426d9",
       "IPY_MODEL_accc8ca0d07044c2bdb697e568caa0b4"
      ],
      "layout": "IPY_MODEL_811ae85f3f86495189df39cd08dee512"
     }
    },
    "bea558f337dc486c992de2ed4c09e188": {
     "model_module": "@jupyter-widgets/controls",
     "model_module_version": "1.5.0",
     "model_name": "DescriptionStyleModel",
     "state": {
      "_model_module": "@jupyter-widgets/controls",
      "_model_module_version": "1.5.0",
      "_model_name": "DescriptionStyleModel",
      "_view_count": null,
      "_view_module": "@jupyter-widgets/base",
      "_view_module_version": "1.2.0",
      "_view_name": "StyleView",
      "description_width": ""
     }
    },
    "c2882a4e6a894a588ab30aa33e377318": {
     "model_module": "@jupyter-widgets/controls",
     "model_module_version": "1.5.0",
     "model_name": "HBoxModel",
     "state": {
      "_dom_classes": [],
      "_model_module": "@jupyter-widgets/controls",
      "_model_module_version": "1.5.0",
      "_model_name": "HBoxModel",
      "_view_count": null,
      "_view_module": "@jupyter-widgets/controls",
      "_view_module_version": "1.5.0",
      "_view_name": "HBoxView",
      "box_style": "",
      "children": [
       "IPY_MODEL_9c39085a9aef40f6ba45c38d75b12f8e",
       "IPY_MODEL_9e1d4f52dc594b099f05ac3faa3ba6f0",
       "IPY_MODEL_cb3a25daf3f64b2e952c8ed7c07a279d"
      ],
      "layout": "IPY_MODEL_38f57dfe3198492599e758fac63a3e35"
     }
    },
    "c2d09a3a44934e18b339772593060fa7": {
     "model_module": "@jupyter-widgets/base",
     "model_module_version": "1.2.0",
     "model_name": "LayoutModel",
     "state": {
      "_model_module": "@jupyter-widgets/base",
      "_model_module_version": "1.2.0",
      "_model_name": "LayoutModel",
      "_view_count": null,
      "_view_module": "@jupyter-widgets/base",
      "_view_module_version": "1.2.0",
      "_view_name": "LayoutView",
      "align_content": null,
      "align_items": null,
      "align_self": null,
      "border": null,
      "bottom": null,
      "display": null,
      "flex": null,
      "flex_flow": null,
      "grid_area": null,
      "grid_auto_columns": null,
      "grid_auto_flow": null,
      "grid_auto_rows": null,
      "grid_column": null,
      "grid_gap": null,
      "grid_row": null,
      "grid_template_areas": null,
      "grid_template_columns": null,
      "grid_template_rows": null,
      "height": null,
      "justify_content": null,
      "justify_items": null,
      "left": null,
      "margin": null,
      "max_height": null,
      "max_width": null,
      "min_height": null,
      "min_width": null,
      "object_fit": null,
      "object_position": null,
      "order": null,
      "overflow": null,
      "overflow_x": null,
      "overflow_y": null,
      "padding": null,
      "right": null,
      "top": null,
      "visibility": null,
      "width": null
     }
    },
    "cb3a25daf3f64b2e952c8ed7c07a279d": {
     "model_module": "@jupyter-widgets/controls",
     "model_module_version": "1.5.0",
     "model_name": "HTMLModel",
     "state": {
      "_dom_classes": [],
      "_model_module": "@jupyter-widgets/controls",
      "_model_module_version": "1.5.0",
      "_model_name": "HTMLModel",
      "_view_count": null,
      "_view_module": "@jupyter-widgets/controls",
      "_view_module_version": "1.5.0",
      "_view_name": "HTMLView",
      "description": "",
      "description_tooltip": null,
      "layout": "IPY_MODEL_7332a4a01d8f455b9c11fd4ce5b818dc",
      "placeholder": "​",
      "style": "IPY_MODEL_2a81e45f336e41548c23e723cbe35a70",
      "value": " 26421880/26421880 [00:01&lt;00:00, 25919711.46it/s]"
     }
    },
    "d3d7f0b5239540d7b63974b31396e69c": {
     "model_module": "@jupyter-widgets/controls",
     "model_module_version": "1.5.0",
     "model_name": "DescriptionStyleModel",
     "state": {
      "_model_module": "@jupyter-widgets/controls",
      "_model_module_version": "1.5.0",
      "_model_name": "DescriptionStyleModel",
      "_view_count": null,
      "_view_module": "@jupyter-widgets/base",
      "_view_module_version": "1.2.0",
      "_view_name": "StyleView",
      "description_width": ""
     }
    },
    "dbc5db68bfe741f68f5581f308ac1e87": {
     "model_module": "@jupyter-widgets/controls",
     "model_module_version": "1.5.0",
     "model_name": "HBoxModel",
     "state": {
      "_dom_classes": [],
      "_model_module": "@jupyter-widgets/controls",
      "_model_module_version": "1.5.0",
      "_model_name": "HBoxModel",
      "_view_count": null,
      "_view_module": "@jupyter-widgets/controls",
      "_view_module_version": "1.5.0",
      "_view_name": "HBoxView",
      "box_style": "",
      "children": [
       "IPY_MODEL_eedec650bfd0422ca5bf81188e22ca52",
       "IPY_MODEL_77c6430345474d3c8f89d06953cd7185",
       "IPY_MODEL_70ae6a73873f43409cbf94c48422cc21"
      ],
      "layout": "IPY_MODEL_fa7925b732054368bc79db857348bdf1"
     }
    },
    "e3cb6a483f494612abe018240470a42f": {
     "model_module": "@jupyter-widgets/base",
     "model_module_version": "1.2.0",
     "model_name": "LayoutModel",
     "state": {
      "_model_module": "@jupyter-widgets/base",
      "_model_module_version": "1.2.0",
      "_model_name": "LayoutModel",
      "_view_count": null,
      "_view_module": "@jupyter-widgets/base",
      "_view_module_version": "1.2.0",
      "_view_name": "LayoutView",
      "align_content": null,
      "align_items": null,
      "align_self": null,
      "border": null,
      "bottom": null,
      "display": null,
      "flex": null,
      "flex_flow": null,
      "grid_area": null,
      "grid_auto_columns": null,
      "grid_auto_flow": null,
      "grid_auto_rows": null,
      "grid_column": null,
      "grid_gap": null,
      "grid_row": null,
      "grid_template_areas": null,
      "grid_template_columns": null,
      "grid_template_rows": null,
      "height": null,
      "justify_content": null,
      "justify_items": null,
      "left": null,
      "margin": null,
      "max_height": null,
      "max_width": null,
      "min_height": null,
      "min_width": null,
      "object_fit": null,
      "object_position": null,
      "order": null,
      "overflow": null,
      "overflow_x": null,
      "overflow_y": null,
      "padding": null,
      "right": null,
      "top": null,
      "visibility": null,
      "width": null
     }
    },
    "e77cd0f015484ce7b1cf3a9a2117ce76": {
     "model_module": "@jupyter-widgets/controls",
     "model_module_version": "1.5.0",
     "model_name": "FloatProgressModel",
     "state": {
      "_dom_classes": [],
      "_model_module": "@jupyter-widgets/controls",
      "_model_module_version": "1.5.0",
      "_model_name": "FloatProgressModel",
      "_view_count": null,
      "_view_module": "@jupyter-widgets/controls",
      "_view_module_version": "1.5.0",
      "_view_name": "ProgressView",
      "bar_style": "success",
      "description": "",
      "description_tooltip": null,
      "layout": "IPY_MODEL_9b27155ed3af4dcf9960870a6ed47bed",
      "max": 29515,
      "min": 0,
      "orientation": "horizontal",
      "style": "IPY_MODEL_213252b1f5524056925999707a4c534d",
      "value": 29515
     }
    },
    "eb3906ab4d8947c19197e08ce200c502": {
     "model_module": "@jupyter-widgets/base",
     "model_module_version": "1.2.0",
     "model_name": "LayoutModel",
     "state": {
      "_model_module": "@jupyter-widgets/base",
      "_model_module_version": "1.2.0",
      "_model_name": "LayoutModel",
      "_view_count": null,
      "_view_module": "@jupyter-widgets/base",
      "_view_module_version": "1.2.0",
      "_view_name": "LayoutView",
      "align_content": null,
      "align_items": null,
      "align_self": null,
      "border": null,
      "bottom": null,
      "display": null,
      "flex": null,
      "flex_flow": null,
      "grid_area": null,
      "grid_auto_columns": null,
      "grid_auto_flow": null,
      "grid_auto_rows": null,
      "grid_column": null,
      "grid_gap": null,
      "grid_row": null,
      "grid_template_areas": null,
      "grid_template_columns": null,
      "grid_template_rows": null,
      "height": null,
      "justify_content": null,
      "justify_items": null,
      "left": null,
      "margin": null,
      "max_height": null,
      "max_width": null,
      "min_height": null,
      "min_width": null,
      "object_fit": null,
      "object_position": null,
      "order": null,
      "overflow": null,
      "overflow_x": null,
      "overflow_y": null,
      "padding": null,
      "right": null,
      "top": null,
      "visibility": null,
      "width": null
     }
    },
    "eedec650bfd0422ca5bf81188e22ca52": {
     "model_module": "@jupyter-widgets/controls",
     "model_module_version": "1.5.0",
     "model_name": "HTMLModel",
     "state": {
      "_dom_classes": [],
      "_model_module": "@jupyter-widgets/controls",
      "_model_module_version": "1.5.0",
      "_model_name": "HTMLModel",
      "_view_count": null,
      "_view_module": "@jupyter-widgets/controls",
      "_view_module_version": "1.5.0",
      "_view_name": "HTMLView",
      "description": "",
      "description_tooltip": null,
      "layout": "IPY_MODEL_534f2bb383804124aea032f34a3601c7",
      "placeholder": "​",
      "style": "IPY_MODEL_bea558f337dc486c992de2ed4c09e188",
      "value": "100%"
     }
    },
    "efc5d2741f7649fbbca370963fd04526": {
     "model_module": "@jupyter-widgets/controls",
     "model_module_version": "1.5.0",
     "model_name": "ProgressStyleModel",
     "state": {
      "_model_module": "@jupyter-widgets/controls",
      "_model_module_version": "1.5.0",
      "_model_name": "ProgressStyleModel",
      "_view_count": null,
      "_view_module": "@jupyter-widgets/base",
      "_view_module_version": "1.2.0",
      "_view_name": "StyleView",
      "bar_color": null,
      "description_width": ""
     }
    },
    "fa7925b732054368bc79db857348bdf1": {
     "model_module": "@jupyter-widgets/base",
     "model_module_version": "1.2.0",
     "model_name": "LayoutModel",
     "state": {
      "_model_module": "@jupyter-widgets/base",
      "_model_module_version": "1.2.0",
      "_model_name": "LayoutModel",
      "_view_count": null,
      "_view_module": "@jupyter-widgets/base",
      "_view_module_version": "1.2.0",
      "_view_name": "LayoutView",
      "align_content": null,
      "align_items": null,
      "align_self": null,
      "border": null,
      "bottom": null,
      "display": null,
      "flex": null,
      "flex_flow": null,
      "grid_area": null,
      "grid_auto_columns": null,
      "grid_auto_flow": null,
      "grid_auto_rows": null,
      "grid_column": null,
      "grid_gap": null,
      "grid_row": null,
      "grid_template_areas": null,
      "grid_template_columns": null,
      "grid_template_rows": null,
      "height": null,
      "justify_content": null,
      "justify_items": null,
      "left": null,
      "margin": null,
      "max_height": null,
      "max_width": null,
      "min_height": null,
      "min_width": null,
      "object_fit": null,
      "object_position": null,
      "order": null,
      "overflow": null,
      "overflow_x": null,
      "overflow_y": null,
      "padding": null,
      "right": null,
      "top": null,
      "visibility": null,
      "width": null
     }
    }
   }
  }
 },
 "nbformat": 4,
 "nbformat_minor": 1
}
